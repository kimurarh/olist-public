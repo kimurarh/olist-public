{
 "cells": [
  {
   "cell_type": "markdown",
   "id": "naval-campaign",
   "metadata": {},
   "source": [
    "# Olist - Exploratory Data Analysis\n",
    "\n",
    "E-commerce (or electronic commerce) refers to transactions conducted via the internet. Every time individuals/companies buy or sell products/services online they're engaging in e-commerce.\n",
    "\n",
    "Needless to say, e-commerce has been growing rapidly over the years. And the covid pandemic has boosted even more the online sales.\n",
    "\n",
    "In this project, we'll be exploring a Brazilian e-commerce public dataset of orders made at [Olist Store](https://olist.com/) available on [Kaggle](https://www.kaggle.com/olistbr/brazilian-ecommerce#). The dataset has information on 100k orders from 2016 to 2018 made at multiple marketplaces in Brazil.\n",
    "\n",
    "\n",
    "### Objectives:\n",
    "- \n",
    "- \n"
   ]
  },
  {
   "cell_type": "markdown",
   "id": "homeless-buddy",
   "metadata": {},
   "source": [
    "### Importing Libraries"
   ]
  },
  {
   "cell_type": "code",
   "execution_count": 1,
   "id": "common-cemetery",
   "metadata": {},
   "outputs": [],
   "source": [
    "import zipfile\n",
    "\n",
    "import numpy as np\n",
    "import pandas as pd\n",
    "\n",
    "# Visualization libs\n",
    "import matplotlib.pyplot as plt\n",
    "import seaborn as sns\n",
    "import plotly.graph_objects as go\n",
    "import plotly.express as px"
   ]
  },
  {
   "cell_type": "markdown",
   "id": "automatic-nothing",
   "metadata": {},
   "source": [
    "## 1. Loading Data\n",
    "___\n",
    "\n",
    "The data is divided in multiple datasets (.csv files) for better understanding and organization.\n",
    "\n",
    "### Datasets Description\n",
    "- **olist_customers_dataset**: This dataset has information about the customer and its location. Use it to identify unique customers in the orders dataset and to find the orders delivery location. At our system each order is assigned to a unique `customerid`. This means that the **same customer will get different ids for different orders**. The purpose of having a `customerunique_id` on the dataset is to allow you to identify customers that made repurchases at the store. Otherwise you would find that each order had a different customer associated with.\n",
    "\n",
    "\n",
    "- **olist_geolocation_dataset**: This dataset has information Brazilian zip codes and its lat/lng coordinates. Use it to plot maps and find distances between sellers and customers.\n",
    "\n",
    "\n",
    "- **olist_order_items_dataset**: This dataset includes data about the items purchased within each order.\n",
    "    - **Example**: The `order_id = 00143d0f86d6fbd9f9b38ab440ac16f5` has 3 items (same product). Each item has the freight calculated accordingly to its measures and weight. To get the total freight value for each order you just have to sum:\n",
    "        - The total order_item value is: 21.33 * 3 = 63.99\n",
    "        - The total freight value is: 15.10 * 3 = 45.30\n",
    "        - The total order value (product + freight) is: 45.30 + 63.99 = 109.29)\n",
    "\n",
    "\n",
    "- **olist_order_payments_dataset**: This dataset includes data about the orders payment options.\n",
    "\n",
    "\n",
    "- **olist_order_reviews_dataset**: This dataset includes data about the reviews made by the customers. After a customer purchases the product from Olist Store a seller gets notified to fulfill that order. Once the customer receives the product, or the estimated delivery date is due, the customer gets a satisfaction survey by email where he can give a note for the purchase experience and write down some comments.\n",
    "\n",
    "\n",
    "- **olist_orders_dataset**: This is the core dataset. From each order you might find all other information.\n",
    "\n",
    "\n",
    "- **olist_products_dataset**: This dataset includes data about the products sold by Olist.\n",
    "\n",
    "\n",
    "- **olist_sellers_dataset**: This dataset includes data about the sellers that fulfilled orders made at Olist. Use it to find the seller location and to identify which seller fulfilled each product.\n",
    "\n",
    "\n",
    "\n",
    "### Olist Data Schema\n",
    "![Data Schema](imgs/data-schema.png)"
   ]
  },
  {
   "cell_type": "markdown",
   "id": "common-official",
   "metadata": {},
   "source": [
    "Each of the datasets presented in the data schema above will be loaded into pandas dataframes:"
   ]
  },
  {
   "cell_type": "code",
   "execution_count": 2,
   "id": "consolidated-jordan",
   "metadata": {},
   "outputs": [],
   "source": [
    "# Reading the zipfile containing the datasets\n",
    "zf = zipfile.ZipFile(\"data/olist-datasets.zip\")\n",
    "\n",
    "# Loading Datasets\n",
    "customers_df = pd.read_csv(zf.open(\"olist_customers_dataset.csv\"))\n",
    "geolocation_df = pd.read_csv(zf.open(\"olist_geolocation_dataset.csv\"))\n",
    "order_items_df = pd.read_csv(zf.open(\"olist_order_items_dataset.csv\"))\n",
    "order_payments_df = pd.read_csv(zf.open(\"olist_order_payments_dataset.csv\"))\n",
    "order_reviews_df = pd.read_csv(zf.open(\"olist_order_reviews_dataset.csv\"))\n",
    "orders_df = pd.read_csv(zf.open(\"olist_orders_dataset.csv\"))\n",
    "products_df = pd.read_csv(zf.open(\"olist_products_dataset.csv\"))\n",
    "sellers_df = pd.read_csv(zf.open(\"olist_sellers_dataset.csv\"))"
   ]
  },
  {
   "cell_type": "markdown",
   "id": "compliant-reform",
   "metadata": {},
   "source": [
    "The `product_category_name` column in `olist_products_dataset` has information in Portuguese. But there is a file containing the translations to English.\n",
    "\n",
    "We'll create a dictionary linking each \"original category\" (Portuguese) to its corresponding in English:"
   ]
  },
  {
   "cell_type": "code",
   "execution_count": 3,
   "id": "olive-lewis",
   "metadata": {},
   "outputs": [],
   "source": [
    "product_category_translation_dict = pd.read_csv(zf.open(\"product_category_name_translation.csv\"),\n",
    "                                                header=None, index_col=0, skiprows=1, squeeze=True).to_dict()"
   ]
  },
  {
   "cell_type": "markdown",
   "id": "textile-process",
   "metadata": {},
   "source": [
    "## 2. Exploratory Data Analysis\n",
    "___\n",
    "\n",
    "As we saw, the data is divided in multiple datasets. Let's start exploring each one of the datasets.\n",
    "\n",
    "### 2.1 Orders Dataset\n",
    "\n",
    "This is the \"main\" dataset."
   ]
  },
  {
   "cell_type": "code",
   "execution_count": 4,
   "id": "flexible-millennium",
   "metadata": {},
   "outputs": [
    {
     "name": "stdout",
     "output_type": "stream",
     "text": [
      "Dimensions: (99441, 8)\n"
     ]
    },
    {
     "data": {
      "text/html": [
       "<div>\n",
       "<style scoped>\n",
       "    .dataframe tbody tr th:only-of-type {\n",
       "        vertical-align: middle;\n",
       "    }\n",
       "\n",
       "    .dataframe tbody tr th {\n",
       "        vertical-align: top;\n",
       "    }\n",
       "\n",
       "    .dataframe thead th {\n",
       "        text-align: right;\n",
       "    }\n",
       "</style>\n",
       "<table border=\"1\" class=\"dataframe\">\n",
       "  <thead>\n",
       "    <tr style=\"text-align: right;\">\n",
       "      <th></th>\n",
       "      <th>order_id</th>\n",
       "      <th>customer_id</th>\n",
       "      <th>order_status</th>\n",
       "      <th>order_purchase_timestamp</th>\n",
       "      <th>order_approved_at</th>\n",
       "      <th>order_delivered_carrier_date</th>\n",
       "      <th>order_delivered_customer_date</th>\n",
       "      <th>order_estimated_delivery_date</th>\n",
       "    </tr>\n",
       "  </thead>\n",
       "  <tbody>\n",
       "    <tr>\n",
       "      <th>0</th>\n",
       "      <td>e481f51cbdc54678b7cc49136f2d6af7</td>\n",
       "      <td>9ef432eb6251297304e76186b10a928d</td>\n",
       "      <td>delivered</td>\n",
       "      <td>2017-10-02 10:56:33</td>\n",
       "      <td>2017-10-02 11:07:15</td>\n",
       "      <td>2017-10-04 19:55:00</td>\n",
       "      <td>2017-10-10 21:25:13</td>\n",
       "      <td>2017-10-18 00:00:00</td>\n",
       "    </tr>\n",
       "    <tr>\n",
       "      <th>1</th>\n",
       "      <td>53cdb2fc8bc7dce0b6741e2150273451</td>\n",
       "      <td>b0830fb4747a6c6d20dea0b8c802d7ef</td>\n",
       "      <td>delivered</td>\n",
       "      <td>2018-07-24 20:41:37</td>\n",
       "      <td>2018-07-26 03:24:27</td>\n",
       "      <td>2018-07-26 14:31:00</td>\n",
       "      <td>2018-08-07 15:27:45</td>\n",
       "      <td>2018-08-13 00:00:00</td>\n",
       "    </tr>\n",
       "    <tr>\n",
       "      <th>2</th>\n",
       "      <td>47770eb9100c2d0c44946d9cf07ec65d</td>\n",
       "      <td>41ce2a54c0b03bf3443c3d931a367089</td>\n",
       "      <td>delivered</td>\n",
       "      <td>2018-08-08 08:38:49</td>\n",
       "      <td>2018-08-08 08:55:23</td>\n",
       "      <td>2018-08-08 13:50:00</td>\n",
       "      <td>2018-08-17 18:06:29</td>\n",
       "      <td>2018-09-04 00:00:00</td>\n",
       "    </tr>\n",
       "    <tr>\n",
       "      <th>3</th>\n",
       "      <td>949d5b44dbf5de918fe9c16f97b45f8a</td>\n",
       "      <td>f88197465ea7920adcdbec7375364d82</td>\n",
       "      <td>delivered</td>\n",
       "      <td>2017-11-18 19:28:06</td>\n",
       "      <td>2017-11-18 19:45:59</td>\n",
       "      <td>2017-11-22 13:39:59</td>\n",
       "      <td>2017-12-02 00:28:42</td>\n",
       "      <td>2017-12-15 00:00:00</td>\n",
       "    </tr>\n",
       "    <tr>\n",
       "      <th>4</th>\n",
       "      <td>ad21c59c0840e6cb83a9ceb5573f8159</td>\n",
       "      <td>8ab97904e6daea8866dbdbc4fb7aad2c</td>\n",
       "      <td>delivered</td>\n",
       "      <td>2018-02-13 21:18:39</td>\n",
       "      <td>2018-02-13 22:20:29</td>\n",
       "      <td>2018-02-14 19:46:34</td>\n",
       "      <td>2018-02-16 18:17:02</td>\n",
       "      <td>2018-02-26 00:00:00</td>\n",
       "    </tr>\n",
       "  </tbody>\n",
       "</table>\n",
       "</div>"
      ],
      "text/plain": [
       "                           order_id                       customer_id  \\\n",
       "0  e481f51cbdc54678b7cc49136f2d6af7  9ef432eb6251297304e76186b10a928d   \n",
       "1  53cdb2fc8bc7dce0b6741e2150273451  b0830fb4747a6c6d20dea0b8c802d7ef   \n",
       "2  47770eb9100c2d0c44946d9cf07ec65d  41ce2a54c0b03bf3443c3d931a367089   \n",
       "3  949d5b44dbf5de918fe9c16f97b45f8a  f88197465ea7920adcdbec7375364d82   \n",
       "4  ad21c59c0840e6cb83a9ceb5573f8159  8ab97904e6daea8866dbdbc4fb7aad2c   \n",
       "\n",
       "  order_status order_purchase_timestamp    order_approved_at  \\\n",
       "0    delivered      2017-10-02 10:56:33  2017-10-02 11:07:15   \n",
       "1    delivered      2018-07-24 20:41:37  2018-07-26 03:24:27   \n",
       "2    delivered      2018-08-08 08:38:49  2018-08-08 08:55:23   \n",
       "3    delivered      2017-11-18 19:28:06  2017-11-18 19:45:59   \n",
       "4    delivered      2018-02-13 21:18:39  2018-02-13 22:20:29   \n",
       "\n",
       "  order_delivered_carrier_date order_delivered_customer_date  \\\n",
       "0          2017-10-04 19:55:00           2017-10-10 21:25:13   \n",
       "1          2018-07-26 14:31:00           2018-08-07 15:27:45   \n",
       "2          2018-08-08 13:50:00           2018-08-17 18:06:29   \n",
       "3          2017-11-22 13:39:59           2017-12-02 00:28:42   \n",
       "4          2018-02-14 19:46:34           2018-02-16 18:17:02   \n",
       "\n",
       "  order_estimated_delivery_date  \n",
       "0           2017-10-18 00:00:00  \n",
       "1           2018-08-13 00:00:00  \n",
       "2           2018-09-04 00:00:00  \n",
       "3           2017-12-15 00:00:00  \n",
       "4           2018-02-26 00:00:00  "
      ]
     },
     "execution_count": 4,
     "metadata": {},
     "output_type": "execute_result"
    }
   ],
   "source": [
    "print(f\"Dimensions: {orders_df.shape}\")\n",
    "orders_df.head()"
   ]
  },
  {
   "cell_type": "markdown",
   "id": "existing-source",
   "metadata": {},
   "source": [
    "- **Checking for missing data**:\n",
    "\n",
    "There is some missing data in the columns `order_approved_at`, `order_delivered_carrier_date` and `order_delivered_customer_date`.\n",
    "\n",
    "This indicates that some of the orders haven't been approved or delivered (carrier or customer)."
   ]
  },
  {
   "cell_type": "code",
   "execution_count": 5,
   "id": "bound-third",
   "metadata": {},
   "outputs": [
    {
     "data": {
      "text/plain": [
       "order_id                            0\n",
       "customer_id                         0\n",
       "order_status                        0\n",
       "order_purchase_timestamp            0\n",
       "order_approved_at                 160\n",
       "order_delivered_carrier_date     1783\n",
       "order_delivered_customer_date    2965\n",
       "order_estimated_delivery_date       0\n",
       "dtype: int64"
      ]
     },
     "execution_count": 5,
     "metadata": {},
     "output_type": "execute_result"
    }
   ],
   "source": [
    "orders_df.isna().sum()"
   ]
  },
  {
   "cell_type": "code",
   "execution_count": null,
   "id": "smooth-sunset",
   "metadata": {},
   "outputs": [],
   "source": []
  },
  {
   "cell_type": "code",
   "execution_count": 6,
   "id": "altered-alpha",
   "metadata": {},
   "outputs": [
    {
     "data": {
      "text/plain": [
       "99441"
      ]
     },
     "execution_count": 6,
     "metadata": {},
     "output_type": "execute_result"
    }
   ],
   "source": [
    "orders_df['order_id'].nunique()"
   ]
  },
  {
   "cell_type": "code",
   "execution_count": 7,
   "id": "sorted-harrison",
   "metadata": {},
   "outputs": [
    {
     "data": {
      "text/plain": [
       "99441"
      ]
     },
     "execution_count": 7,
     "metadata": {},
     "output_type": "execute_result"
    }
   ],
   "source": [
    "orders_df['customer_id'].nunique()"
   ]
  },
  {
   "cell_type": "code",
   "execution_count": null,
   "id": "pretty-contrast",
   "metadata": {},
   "outputs": [],
   "source": []
  }
 ],
 "metadata": {
  "kernelspec": {
   "display_name": "Python 3 (ipykernel)",
   "language": "python",
   "name": "python3"
  },
  "language_info": {
   "codemirror_mode": {
    "name": "ipython",
    "version": 3
   },
   "file_extension": ".py",
   "mimetype": "text/x-python",
   "name": "python",
   "nbconvert_exporter": "python",
   "pygments_lexer": "ipython3",
   "version": "3.8.8"
  }
 },
 "nbformat": 4,
 "nbformat_minor": 5
}
