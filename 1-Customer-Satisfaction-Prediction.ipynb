{
 "cells": [
  {
   "cell_type": "markdown",
   "id": "vocational-nylon",
   "metadata": {},
   "source": [
    "# Olist - Customers Satisfaction Prediction\n",
    "\n",
    "In the previous notebook (`0-Exploratory-Data-Analysis`) we explored the dataset of orders made at Olist Store and managed to learn about the Brazilian e-commerce market.\n",
    "\n",
    "Now we're going to create a model to predict a customer's satisfaction. Our main goal in this notebook is to find a way to estimate if the customer is going to leave a good or bad review/rating.\n",
    "\n",
    "## Table of Contents\n",
    "\n",
    "1. [**Structuring Data**](#1.-Structuring-Data)\n",
    "2. [**Data Cleaning**](#2.-Data-Cleaning)\n",
    "3. [**Feature Engineering**](#3.-Feature-Engineering)\n",
    "\n",
    "### Importing Libraries"
   ]
  },
  {
   "cell_type": "code",
   "execution_count": 1,
   "id": "stable-revolution",
   "metadata": {},
   "outputs": [],
   "source": [
    "import numpy as np\n",
    "import pandas as pd\n",
    "import zipfile\n",
    "import itertools\n",
    "\n",
    "# Visualization libs\n",
    "import matplotlib\n",
    "import matplotlib.pyplot as plt\n",
    "import seaborn as sns\n",
    "import plotly.graph_objects as go\n",
    "import plotly.express as px\n",
    "\n",
    "from sklearn.model_selection import train_test_split\n",
    "from sklearn.preprocessing import StandardScaler\n",
    "from sklearn.compose import ColumnTransformer\n",
    "\n",
    "from sklearn.dummy import DummyClassifier\n",
    "from sklearn.ensemble import RandomForestClassifier\n",
    "from sklearn.svm import SVC\n",
    "from sklearn.linear_model import LogisticRegression\n",
    "from xgboost import XGBClassifier\n",
    "\n",
    "from sklearn.metrics import accuracy_score\n",
    "from sklearn.metrics import confusion_matrix, roc_auc_score\n",
    "\n",
    "\n",
    "from utils import make_confusion_matrix\n",
    "\n",
    "\n",
    "# Seaborn settings\n",
    "sns.set(font_scale=1.2)\n",
    "sns.set_palette(\"pastel\")\n",
    "\n",
    "# Pandas settings\n",
    "pd.set_option(\"display.max_columns\", None)"
   ]
  },
  {
   "cell_type": "markdown",
   "id": "expanded-valve",
   "metadata": {},
   "source": [
    "## 1. Structuring Data\n",
    "___\n",
    "\n",
    "### Loading Data\n",
    "\n",
    "The Olist data is divided into multiple csv files. First, we'll load them into **pandas dataframes**:"
   ]
  },
  {
   "cell_type": "code",
   "execution_count": 2,
   "id": "obvious-mapping",
   "metadata": {},
   "outputs": [],
   "source": [
    "# Reading the zipfile containing the datasets\n",
    "zf = zipfile.ZipFile(\"data/olist-datasets.zip\")\n",
    "\n",
    "# Loading Datasets\n",
    "products_df = pd.read_csv(zf.open(\"olist_products_dataset.csv\"))\n",
    "\n",
    "order_payments_df = pd.read_csv(zf.open(\"olist_order_payments_dataset.csv\"))\n",
    "\n",
    "sellers_df = pd.read_csv(zf.open(\"olist_sellers_dataset.csv\"),\n",
    "                         dtype={'seller_zip_code_prefix': str})\n",
    "\n",
    "customers_df = pd.read_csv(zf.open(\"olist_customers_dataset.csv\"),\n",
    "                           dtype={'customer_zip_code_prefix': str})\n",
    "\n",
    "geolocation_df = pd.read_csv(zf.open(\"olist_geolocation_dataset.csv\"),\n",
    "                             dtype={'geolocation_zip_code_prefix': str})\n",
    "\n",
    "order_items_df = pd.read_csv(zf.open(\"olist_order_items_dataset.csv\"),\n",
    "                             parse_dates=['shipping_limit_date'])\n",
    "\n",
    "order_reviews_df = pd.read_csv(zf.open(\"olist_order_reviews_dataset.csv\"),\n",
    "                               parse_dates=['review_creation_date', \n",
    "                                            'review_answer_timestamp'])\n",
    "\n",
    "orders_df = pd.read_csv(zf.open(\"olist_orders_dataset.csv\"), \n",
    "                        parse_dates=['order_purchase_timestamp', \n",
    "                                     'order_approved_at', \n",
    "                                     'order_delivered_carrier_date', \n",
    "                                     'order_delivered_customer_date', \n",
    "                                     'order_estimated_delivery_date'])"
   ]
  },
  {
   "cell_type": "markdown",
   "id": "worse-geography",
   "metadata": {},
   "source": [
    "There is an additional file containing the translations of Portuguese category names to English. We'll create a dictionary linking each \"original category\" (Portuguese) to its corresponding in English:"
   ]
  },
  {
   "cell_type": "code",
   "execution_count": 3,
   "id": "powerful-delicious",
   "metadata": {},
   "outputs": [],
   "source": [
    "# Category Translation Dictionary (Portuguese > English)\n",
    "product_category_translation_dict = pd.read_csv(zf.open(\"product_category_name_translation.csv\"),\n",
    "                                                header=None, index_col=0, skiprows=1, squeeze=True).to_dict()"
   ]
  },
  {
   "cell_type": "markdown",
   "id": "sapphire-conducting",
   "metadata": {},
   "source": [
    "### Merging Data\n",
    "\n",
    "The datasets created earlier will be merged into a single dataframe."
   ]
  },
  {
   "cell_type": "markdown",
   "id": "velvet-missile",
   "metadata": {},
   "source": [
    "- `orders_df` and `order_items_df`"
   ]
  },
  {
   "cell_type": "code",
   "execution_count": 4,
   "id": "regulation-imperial",
   "metadata": {},
   "outputs": [],
   "source": [
    "df = pd.merge(left=orders_df, right=order_items_df, how='inner',\n",
    "              left_on='order_id', right_on='order_id')"
   ]
  },
  {
   "cell_type": "markdown",
   "id": "skilled-optimum",
   "metadata": {},
   "source": [
    "- `customers_df`"
   ]
  },
  {
   "cell_type": "code",
   "execution_count": 5,
   "id": "suspended-flashing",
   "metadata": {},
   "outputs": [],
   "source": [
    "df = pd.merge(left=df, right=customers_df, how='inner',\n",
    "              left_on='customer_id', right_on='customer_id')"
   ]
  },
  {
   "cell_type": "markdown",
   "id": "cloudy-travel",
   "metadata": {},
   "source": [
    "- `products_df`"
   ]
  },
  {
   "cell_type": "markdown",
   "id": "virtual-graph",
   "metadata": {},
   "source": [
    "As mentioned earlier, the product category name is in Portuguese. \n",
    "\n",
    "Before merging, we'll translate the categories to English using the dictionary created (`product_category_translation_dict`)."
   ]
  },
  {
   "cell_type": "code",
   "execution_count": 6,
   "id": "greatest-tucson",
   "metadata": {},
   "outputs": [],
   "source": [
    "products_df['product_category_name'] = (products_df['product_category_name']\n",
    "                                        .apply(lambda x: product_category_translation_dict.get(x, None)))"
   ]
  },
  {
   "cell_type": "code",
   "execution_count": 7,
   "id": "authentic-plasma",
   "metadata": {},
   "outputs": [],
   "source": [
    "df = pd.merge(left=df, right=products_df, how='inner',\n",
    "              left_on='product_id', right_on='product_id')"
   ]
  },
  {
   "cell_type": "markdown",
   "id": "numerical-combine",
   "metadata": {},
   "source": [
    "- `sellers_df`"
   ]
  },
  {
   "cell_type": "code",
   "execution_count": 8,
   "id": "medieval-growing",
   "metadata": {},
   "outputs": [],
   "source": [
    "df = pd.merge(left=df, right=sellers_df, how='inner',\n",
    "              left_on='seller_id', right_on='seller_id')"
   ]
  },
  {
   "cell_type": "markdown",
   "id": "expensive-secret",
   "metadata": {},
   "source": [
    "- `order_payments_df`"
   ]
  },
  {
   "cell_type": "markdown",
   "id": "equivalent-crossing",
   "metadata": {},
   "source": [
    "An order can be paid using multiple payment methods (e.g. credit card, boleto). For this reason, we have multiple rows corresponding to the payment of the same order.\n",
    "\n",
    "Before merging, we'll need to group the information by `order_id`."
   ]
  },
  {
   "cell_type": "code",
   "execution_count": 9,
   "id": "vulnerable-shopping",
   "metadata": {},
   "outputs": [],
   "source": [
    "# One-Hot Encoding\n",
    "order_payments_grouped = pd.get_dummies(order_payments_df, columns=['payment_type'])\n",
    "for ptype in order_payments_df['payment_type'].unique():\n",
    "    order_payments_grouped[ptype+'_installments'] = (order_payments_grouped['payment_type_'+ptype]\n",
    "                                                     * order_payments_grouped['payment_installments'])\n",
    "    order_payments_grouped[ptype+'_total_value'] = (order_payments_grouped['payment_type_'+ptype]\n",
    "                                                    * order_payments_grouped['payment_value'])\n",
    "    \n",
    "# Grouping by order_id\n",
    "order_payments_grouped = (order_payments_grouped.groupby(\"order_id\")\n",
    "                          .agg(total_installments=(\"payment_installments\", \"sum\"),\n",
    "                               total_value=(\"payment_value\", \"sum\"),\n",
    "                               credit_card_installments=(\"credit_card_installments\", \"sum\"),\n",
    "                               boleto_installments=(\"boleto_installments\", \"sum\"),\n",
    "                               voucher_installments=(\"voucher_installments\", \"sum\"),\n",
    "                               debit_card_installments=(\"debit_card_installments\", \"sum\"),\n",
    "                               not_defined_installments=(\"not_defined_installments\", \"sum\"),\n",
    "                               credit_card_total_value=(\"credit_card_total_value\", \"sum\"),\n",
    "                               boleto_total_value=(\"boleto_total_value\", \"sum\"),\n",
    "                               voucher_total_value=(\"voucher_total_value\", \"sum\"),\n",
    "                               debit_card_total_value=(\"debit_card_total_value\", \"sum\"),\n",
    "                               not_defined_total_value=(\"not_defined_total_value\", \"sum\")\n",
    "                              ).reset_index()\n",
    "                         )\n",
    "\n",
    "# Merging payment information\n",
    "df = pd.merge(left=df, right=order_payments_grouped, how='inner',\n",
    "              left_on='order_id', right_on='order_id')"
   ]
  },
  {
   "cell_type": "markdown",
   "id": "honey-bristol",
   "metadata": {},
   "source": [
    "- `order_reviews_df`"
   ]
  },
  {
   "cell_type": "code",
   "execution_count": 10,
   "id": "deluxe-coordinate",
   "metadata": {},
   "outputs": [],
   "source": [
    "df = pd.merge(left=df, right=order_reviews_df, how='inner',\n",
    "              left_on='order_id', right_on='order_id')"
   ]
  },
  {
   "cell_type": "code",
   "execution_count": 11,
   "id": "expensive-services",
   "metadata": {},
   "outputs": [
    {
     "name": "stdout",
     "output_type": "stream",
     "text": [
      "Dimensions: (112369, 47)\n"
     ]
    },
    {
     "data": {
      "text/html": [
       "<div>\n",
       "<style scoped>\n",
       "    .dataframe tbody tr th:only-of-type {\n",
       "        vertical-align: middle;\n",
       "    }\n",
       "\n",
       "    .dataframe tbody tr th {\n",
       "        vertical-align: top;\n",
       "    }\n",
       "\n",
       "    .dataframe thead th {\n",
       "        text-align: right;\n",
       "    }\n",
       "</style>\n",
       "<table border=\"1\" class=\"dataframe\">\n",
       "  <thead>\n",
       "    <tr style=\"text-align: right;\">\n",
       "      <th></th>\n",
       "      <th>order_id</th>\n",
       "      <th>customer_id</th>\n",
       "      <th>order_status</th>\n",
       "      <th>order_purchase_timestamp</th>\n",
       "      <th>order_approved_at</th>\n",
       "      <th>order_delivered_carrier_date</th>\n",
       "      <th>order_delivered_customer_date</th>\n",
       "      <th>order_estimated_delivery_date</th>\n",
       "      <th>order_item_id</th>\n",
       "      <th>product_id</th>\n",
       "      <th>seller_id</th>\n",
       "      <th>shipping_limit_date</th>\n",
       "      <th>price</th>\n",
       "      <th>freight_value</th>\n",
       "      <th>customer_unique_id</th>\n",
       "      <th>customer_zip_code_prefix</th>\n",
       "      <th>customer_city</th>\n",
       "      <th>customer_state</th>\n",
       "      <th>product_category_name</th>\n",
       "      <th>product_name_lenght</th>\n",
       "      <th>product_description_lenght</th>\n",
       "      <th>product_photos_qty</th>\n",
       "      <th>product_weight_g</th>\n",
       "      <th>product_length_cm</th>\n",
       "      <th>product_height_cm</th>\n",
       "      <th>product_width_cm</th>\n",
       "      <th>seller_zip_code_prefix</th>\n",
       "      <th>seller_city</th>\n",
       "      <th>seller_state</th>\n",
       "      <th>total_installments</th>\n",
       "      <th>total_value</th>\n",
       "      <th>credit_card_installments</th>\n",
       "      <th>boleto_installments</th>\n",
       "      <th>voucher_installments</th>\n",
       "      <th>debit_card_installments</th>\n",
       "      <th>not_defined_installments</th>\n",
       "      <th>credit_card_total_value</th>\n",
       "      <th>boleto_total_value</th>\n",
       "      <th>voucher_total_value</th>\n",
       "      <th>debit_card_total_value</th>\n",
       "      <th>not_defined_total_value</th>\n",
       "      <th>review_id</th>\n",
       "      <th>review_score</th>\n",
       "      <th>review_comment_title</th>\n",
       "      <th>review_comment_message</th>\n",
       "      <th>review_creation_date</th>\n",
       "      <th>review_answer_timestamp</th>\n",
       "    </tr>\n",
       "  </thead>\n",
       "  <tbody>\n",
       "    <tr>\n",
       "      <th>0</th>\n",
       "      <td>e481f51cbdc54678b7cc49136f2d6af7</td>\n",
       "      <td>9ef432eb6251297304e76186b10a928d</td>\n",
       "      <td>delivered</td>\n",
       "      <td>2017-10-02 10:56:33</td>\n",
       "      <td>2017-10-02 11:07:15</td>\n",
       "      <td>2017-10-04 19:55:00</td>\n",
       "      <td>2017-10-10 21:25:13</td>\n",
       "      <td>2017-10-18</td>\n",
       "      <td>1</td>\n",
       "      <td>87285b34884572647811a353c7ac498a</td>\n",
       "      <td>3504c0cb71d7fa48d967e0e4c94d59d9</td>\n",
       "      <td>2017-10-06 11:07:15</td>\n",
       "      <td>29.99</td>\n",
       "      <td>8.72</td>\n",
       "      <td>7c396fd4830fd04220f754e42b4e5bff</td>\n",
       "      <td>03149</td>\n",
       "      <td>sao paulo</td>\n",
       "      <td>SP</td>\n",
       "      <td>housewares</td>\n",
       "      <td>40.0</td>\n",
       "      <td>268.0</td>\n",
       "      <td>4.0</td>\n",
       "      <td>500.0</td>\n",
       "      <td>19.0</td>\n",
       "      <td>8.0</td>\n",
       "      <td>13.0</td>\n",
       "      <td>09350</td>\n",
       "      <td>maua</td>\n",
       "      <td>SP</td>\n",
       "      <td>3</td>\n",
       "      <td>38.71</td>\n",
       "      <td>1</td>\n",
       "      <td>0</td>\n",
       "      <td>2</td>\n",
       "      <td>0</td>\n",
       "      <td>0</td>\n",
       "      <td>18.12</td>\n",
       "      <td>0.00</td>\n",
       "      <td>20.59</td>\n",
       "      <td>0.0</td>\n",
       "      <td>0.0</td>\n",
       "      <td>a54f0611adc9ed256b57ede6b6eb5114</td>\n",
       "      <td>4</td>\n",
       "      <td>NaN</td>\n",
       "      <td>Não testei o produto ainda, mas ele veio corre...</td>\n",
       "      <td>2017-10-11</td>\n",
       "      <td>2017-10-12 03:43:48</td>\n",
       "    </tr>\n",
       "    <tr>\n",
       "      <th>1</th>\n",
       "      <td>128e10d95713541c87cd1a2e48201934</td>\n",
       "      <td>a20e8105f23924cd00833fd87daa0831</td>\n",
       "      <td>delivered</td>\n",
       "      <td>2017-08-15 18:29:31</td>\n",
       "      <td>2017-08-15 20:05:16</td>\n",
       "      <td>2017-08-17 15:28:33</td>\n",
       "      <td>2017-08-18 14:44:43</td>\n",
       "      <td>2017-08-28</td>\n",
       "      <td>1</td>\n",
       "      <td>87285b34884572647811a353c7ac498a</td>\n",
       "      <td>3504c0cb71d7fa48d967e0e4c94d59d9</td>\n",
       "      <td>2017-08-21 20:05:16</td>\n",
       "      <td>29.99</td>\n",
       "      <td>7.78</td>\n",
       "      <td>3a51803cc0d012c3b5dc8b7528cb05f7</td>\n",
       "      <td>03366</td>\n",
       "      <td>sao paulo</td>\n",
       "      <td>SP</td>\n",
       "      <td>housewares</td>\n",
       "      <td>40.0</td>\n",
       "      <td>268.0</td>\n",
       "      <td>4.0</td>\n",
       "      <td>500.0</td>\n",
       "      <td>19.0</td>\n",
       "      <td>8.0</td>\n",
       "      <td>13.0</td>\n",
       "      <td>09350</td>\n",
       "      <td>maua</td>\n",
       "      <td>SP</td>\n",
       "      <td>3</td>\n",
       "      <td>37.77</td>\n",
       "      <td>3</td>\n",
       "      <td>0</td>\n",
       "      <td>0</td>\n",
       "      <td>0</td>\n",
       "      <td>0</td>\n",
       "      <td>37.77</td>\n",
       "      <td>0.00</td>\n",
       "      <td>0.00</td>\n",
       "      <td>0.0</td>\n",
       "      <td>0.0</td>\n",
       "      <td>b46f1e34512b0f4c74a72398b03ca788</td>\n",
       "      <td>4</td>\n",
       "      <td>NaN</td>\n",
       "      <td>Deveriam embalar melhor o produto. A caixa vei...</td>\n",
       "      <td>2017-08-19</td>\n",
       "      <td>2017-08-20 15:16:36</td>\n",
       "    </tr>\n",
       "    <tr>\n",
       "      <th>2</th>\n",
       "      <td>0e7e841ddf8f8f2de2bad69267ecfbcf</td>\n",
       "      <td>26c7ac168e1433912a51b924fbd34d34</td>\n",
       "      <td>delivered</td>\n",
       "      <td>2017-08-02 18:24:47</td>\n",
       "      <td>2017-08-02 18:43:15</td>\n",
       "      <td>2017-08-04 17:35:43</td>\n",
       "      <td>2017-08-07 18:30:01</td>\n",
       "      <td>2017-08-15</td>\n",
       "      <td>1</td>\n",
       "      <td>87285b34884572647811a353c7ac498a</td>\n",
       "      <td>3504c0cb71d7fa48d967e0e4c94d59d9</td>\n",
       "      <td>2017-08-08 18:37:31</td>\n",
       "      <td>29.99</td>\n",
       "      <td>7.78</td>\n",
       "      <td>ef0996a1a279c26e7ecbd737be23d235</td>\n",
       "      <td>02290</td>\n",
       "      <td>sao paulo</td>\n",
       "      <td>SP</td>\n",
       "      <td>housewares</td>\n",
       "      <td>40.0</td>\n",
       "      <td>268.0</td>\n",
       "      <td>4.0</td>\n",
       "      <td>500.0</td>\n",
       "      <td>19.0</td>\n",
       "      <td>8.0</td>\n",
       "      <td>13.0</td>\n",
       "      <td>09350</td>\n",
       "      <td>maua</td>\n",
       "      <td>SP</td>\n",
       "      <td>1</td>\n",
       "      <td>37.77</td>\n",
       "      <td>1</td>\n",
       "      <td>0</td>\n",
       "      <td>0</td>\n",
       "      <td>0</td>\n",
       "      <td>0</td>\n",
       "      <td>37.77</td>\n",
       "      <td>0.00</td>\n",
       "      <td>0.00</td>\n",
       "      <td>0.0</td>\n",
       "      <td>0.0</td>\n",
       "      <td>dc90f19c2806f1abba9e72ad3c350073</td>\n",
       "      <td>5</td>\n",
       "      <td>NaN</td>\n",
       "      <td>Só achei ela pequena pra seis xícaras ,mais é ...</td>\n",
       "      <td>2017-08-08</td>\n",
       "      <td>2017-08-08 23:26:23</td>\n",
       "    </tr>\n",
       "    <tr>\n",
       "      <th>3</th>\n",
       "      <td>bfc39df4f36c3693ff3b63fcbea9e90a</td>\n",
       "      <td>53904ddbea91e1e92b2b3f1d09a7af86</td>\n",
       "      <td>delivered</td>\n",
       "      <td>2017-10-23 23:26:46</td>\n",
       "      <td>2017-10-25 02:14:11</td>\n",
       "      <td>2017-10-27 16:48:46</td>\n",
       "      <td>2017-11-07 18:04:59</td>\n",
       "      <td>2017-11-13</td>\n",
       "      <td>1</td>\n",
       "      <td>87285b34884572647811a353c7ac498a</td>\n",
       "      <td>3504c0cb71d7fa48d967e0e4c94d59d9</td>\n",
       "      <td>2017-10-31 02:14:11</td>\n",
       "      <td>29.99</td>\n",
       "      <td>14.10</td>\n",
       "      <td>e781fdcc107d13d865fc7698711cc572</td>\n",
       "      <td>88032</td>\n",
       "      <td>florianopolis</td>\n",
       "      <td>SC</td>\n",
       "      <td>housewares</td>\n",
       "      <td>40.0</td>\n",
       "      <td>268.0</td>\n",
       "      <td>4.0</td>\n",
       "      <td>500.0</td>\n",
       "      <td>19.0</td>\n",
       "      <td>8.0</td>\n",
       "      <td>13.0</td>\n",
       "      <td>09350</td>\n",
       "      <td>maua</td>\n",
       "      <td>SP</td>\n",
       "      <td>1</td>\n",
       "      <td>44.09</td>\n",
       "      <td>0</td>\n",
       "      <td>1</td>\n",
       "      <td>0</td>\n",
       "      <td>0</td>\n",
       "      <td>0</td>\n",
       "      <td>0.00</td>\n",
       "      <td>44.09</td>\n",
       "      <td>0.00</td>\n",
       "      <td>0.0</td>\n",
       "      <td>0.0</td>\n",
       "      <td>1bafb430e498b939f258b9c9dbdff9b1</td>\n",
       "      <td>3</td>\n",
       "      <td>NaN</td>\n",
       "      <td>NaN</td>\n",
       "      <td>2017-11-08</td>\n",
       "      <td>2017-11-10 19:52:38</td>\n",
       "    </tr>\n",
       "    <tr>\n",
       "      <th>4</th>\n",
       "      <td>8736140c61ea584cb4250074756d8f3b</td>\n",
       "      <td>ab8844663ae049fda8baf15fc928f47f</td>\n",
       "      <td>delivered</td>\n",
       "      <td>2017-08-10 13:35:55</td>\n",
       "      <td>2017-08-10 13:50:09</td>\n",
       "      <td>2017-08-11 13:52:35</td>\n",
       "      <td>2017-08-16 19:03:36</td>\n",
       "      <td>2017-08-23</td>\n",
       "      <td>1</td>\n",
       "      <td>b00a32a0b42fd65efb58a5822009f629</td>\n",
       "      <td>3504c0cb71d7fa48d967e0e4c94d59d9</td>\n",
       "      <td>2017-08-16 13:50:09</td>\n",
       "      <td>75.90</td>\n",
       "      <td>7.79</td>\n",
       "      <td>02c9e0c05a817d4562ec0e8c90f29dba</td>\n",
       "      <td>08577</td>\n",
       "      <td>itaquaquecetuba</td>\n",
       "      <td>SP</td>\n",
       "      <td>baby</td>\n",
       "      <td>58.0</td>\n",
       "      <td>398.0</td>\n",
       "      <td>3.0</td>\n",
       "      <td>238.0</td>\n",
       "      <td>20.0</td>\n",
       "      <td>10.0</td>\n",
       "      <td>15.0</td>\n",
       "      <td>09350</td>\n",
       "      <td>maua</td>\n",
       "      <td>SP</td>\n",
       "      <td>1</td>\n",
       "      <td>83.69</td>\n",
       "      <td>1</td>\n",
       "      <td>0</td>\n",
       "      <td>0</td>\n",
       "      <td>0</td>\n",
       "      <td>0</td>\n",
       "      <td>83.69</td>\n",
       "      <td>0.00</td>\n",
       "      <td>0.00</td>\n",
       "      <td>0.0</td>\n",
       "      <td>0.0</td>\n",
       "      <td>b8238c6515192f8129081e17dc57d169</td>\n",
       "      <td>5</td>\n",
       "      <td>NaN</td>\n",
       "      <td>custo beneficio, simples de usar e rápido</td>\n",
       "      <td>2017-08-17</td>\n",
       "      <td>2017-08-21 12:43:27</td>\n",
       "    </tr>\n",
       "  </tbody>\n",
       "</table>\n",
       "</div>"
      ],
      "text/plain": [
       "                           order_id                       customer_id  \\\n",
       "0  e481f51cbdc54678b7cc49136f2d6af7  9ef432eb6251297304e76186b10a928d   \n",
       "1  128e10d95713541c87cd1a2e48201934  a20e8105f23924cd00833fd87daa0831   \n",
       "2  0e7e841ddf8f8f2de2bad69267ecfbcf  26c7ac168e1433912a51b924fbd34d34   \n",
       "3  bfc39df4f36c3693ff3b63fcbea9e90a  53904ddbea91e1e92b2b3f1d09a7af86   \n",
       "4  8736140c61ea584cb4250074756d8f3b  ab8844663ae049fda8baf15fc928f47f   \n",
       "\n",
       "  order_status order_purchase_timestamp   order_approved_at  \\\n",
       "0    delivered      2017-10-02 10:56:33 2017-10-02 11:07:15   \n",
       "1    delivered      2017-08-15 18:29:31 2017-08-15 20:05:16   \n",
       "2    delivered      2017-08-02 18:24:47 2017-08-02 18:43:15   \n",
       "3    delivered      2017-10-23 23:26:46 2017-10-25 02:14:11   \n",
       "4    delivered      2017-08-10 13:35:55 2017-08-10 13:50:09   \n",
       "\n",
       "  order_delivered_carrier_date order_delivered_customer_date  \\\n",
       "0          2017-10-04 19:55:00           2017-10-10 21:25:13   \n",
       "1          2017-08-17 15:28:33           2017-08-18 14:44:43   \n",
       "2          2017-08-04 17:35:43           2017-08-07 18:30:01   \n",
       "3          2017-10-27 16:48:46           2017-11-07 18:04:59   \n",
       "4          2017-08-11 13:52:35           2017-08-16 19:03:36   \n",
       "\n",
       "  order_estimated_delivery_date  order_item_id  \\\n",
       "0                    2017-10-18              1   \n",
       "1                    2017-08-28              1   \n",
       "2                    2017-08-15              1   \n",
       "3                    2017-11-13              1   \n",
       "4                    2017-08-23              1   \n",
       "\n",
       "                         product_id                         seller_id  \\\n",
       "0  87285b34884572647811a353c7ac498a  3504c0cb71d7fa48d967e0e4c94d59d9   \n",
       "1  87285b34884572647811a353c7ac498a  3504c0cb71d7fa48d967e0e4c94d59d9   \n",
       "2  87285b34884572647811a353c7ac498a  3504c0cb71d7fa48d967e0e4c94d59d9   \n",
       "3  87285b34884572647811a353c7ac498a  3504c0cb71d7fa48d967e0e4c94d59d9   \n",
       "4  b00a32a0b42fd65efb58a5822009f629  3504c0cb71d7fa48d967e0e4c94d59d9   \n",
       "\n",
       "  shipping_limit_date  price  freight_value                customer_unique_id  \\\n",
       "0 2017-10-06 11:07:15  29.99           8.72  7c396fd4830fd04220f754e42b4e5bff   \n",
       "1 2017-08-21 20:05:16  29.99           7.78  3a51803cc0d012c3b5dc8b7528cb05f7   \n",
       "2 2017-08-08 18:37:31  29.99           7.78  ef0996a1a279c26e7ecbd737be23d235   \n",
       "3 2017-10-31 02:14:11  29.99          14.10  e781fdcc107d13d865fc7698711cc572   \n",
       "4 2017-08-16 13:50:09  75.90           7.79  02c9e0c05a817d4562ec0e8c90f29dba   \n",
       "\n",
       "  customer_zip_code_prefix    customer_city customer_state  \\\n",
       "0                    03149        sao paulo             SP   \n",
       "1                    03366        sao paulo             SP   \n",
       "2                    02290        sao paulo             SP   \n",
       "3                    88032    florianopolis             SC   \n",
       "4                    08577  itaquaquecetuba             SP   \n",
       "\n",
       "  product_category_name  product_name_lenght  product_description_lenght  \\\n",
       "0            housewares                 40.0                       268.0   \n",
       "1            housewares                 40.0                       268.0   \n",
       "2            housewares                 40.0                       268.0   \n",
       "3            housewares                 40.0                       268.0   \n",
       "4                  baby                 58.0                       398.0   \n",
       "\n",
       "   product_photos_qty  product_weight_g  product_length_cm  product_height_cm  \\\n",
       "0                 4.0             500.0               19.0                8.0   \n",
       "1                 4.0             500.0               19.0                8.0   \n",
       "2                 4.0             500.0               19.0                8.0   \n",
       "3                 4.0             500.0               19.0                8.0   \n",
       "4                 3.0             238.0               20.0               10.0   \n",
       "\n",
       "   product_width_cm seller_zip_code_prefix seller_city seller_state  \\\n",
       "0              13.0                  09350        maua           SP   \n",
       "1              13.0                  09350        maua           SP   \n",
       "2              13.0                  09350        maua           SP   \n",
       "3              13.0                  09350        maua           SP   \n",
       "4              15.0                  09350        maua           SP   \n",
       "\n",
       "   total_installments  total_value  credit_card_installments  \\\n",
       "0                   3        38.71                         1   \n",
       "1                   3        37.77                         3   \n",
       "2                   1        37.77                         1   \n",
       "3                   1        44.09                         0   \n",
       "4                   1        83.69                         1   \n",
       "\n",
       "   boleto_installments  voucher_installments  debit_card_installments  \\\n",
       "0                    0                     2                        0   \n",
       "1                    0                     0                        0   \n",
       "2                    0                     0                        0   \n",
       "3                    1                     0                        0   \n",
       "4                    0                     0                        0   \n",
       "\n",
       "   not_defined_installments  credit_card_total_value  boleto_total_value  \\\n",
       "0                         0                    18.12                0.00   \n",
       "1                         0                    37.77                0.00   \n",
       "2                         0                    37.77                0.00   \n",
       "3                         0                     0.00               44.09   \n",
       "4                         0                    83.69                0.00   \n",
       "\n",
       "   voucher_total_value  debit_card_total_value  not_defined_total_value  \\\n",
       "0                20.59                     0.0                      0.0   \n",
       "1                 0.00                     0.0                      0.0   \n",
       "2                 0.00                     0.0                      0.0   \n",
       "3                 0.00                     0.0                      0.0   \n",
       "4                 0.00                     0.0                      0.0   \n",
       "\n",
       "                          review_id  review_score review_comment_title  \\\n",
       "0  a54f0611adc9ed256b57ede6b6eb5114             4                  NaN   \n",
       "1  b46f1e34512b0f4c74a72398b03ca788             4                  NaN   \n",
       "2  dc90f19c2806f1abba9e72ad3c350073             5                  NaN   \n",
       "3  1bafb430e498b939f258b9c9dbdff9b1             3                  NaN   \n",
       "4  b8238c6515192f8129081e17dc57d169             5                  NaN   \n",
       "\n",
       "                              review_comment_message review_creation_date  \\\n",
       "0  Não testei o produto ainda, mas ele veio corre...           2017-10-11   \n",
       "1  Deveriam embalar melhor o produto. A caixa vei...           2017-08-19   \n",
       "2  Só achei ela pequena pra seis xícaras ,mais é ...           2017-08-08   \n",
       "3                                                NaN           2017-11-08   \n",
       "4          custo beneficio, simples de usar e rápido           2017-08-17   \n",
       "\n",
       "  review_answer_timestamp  \n",
       "0     2017-10-12 03:43:48  \n",
       "1     2017-08-20 15:16:36  \n",
       "2     2017-08-08 23:26:23  \n",
       "3     2017-11-10 19:52:38  \n",
       "4     2017-08-21 12:43:27  "
      ]
     },
     "execution_count": 11,
     "metadata": {},
     "output_type": "execute_result"
    }
   ],
   "source": [
    "print(f\"Dimensions: {df.shape}\")\n",
    "df.head()"
   ]
  },
  {
   "cell_type": "markdown",
   "id": "excessive-welsh",
   "metadata": {},
   "source": [
    "## 2. Data Cleaning\n",
    "___"
   ]
  },
  {
   "cell_type": "markdown",
   "id": "instructional-cheat",
   "metadata": {},
   "source": [
    "### Filtering Delivered Orders\n",
    "\n",
    "In this project we'll be predicting a customer's rating. And a customer can't (or shouldn't be able to) rate an order before receiving the order. So we'll filter only the orders that have been delivered."
   ]
  },
  {
   "cell_type": "code",
   "execution_count": 12,
   "id": "formed-hartford",
   "metadata": {},
   "outputs": [],
   "source": [
    "df = df.query(\"order_status == 'delivered'\")"
   ]
  },
  {
   "cell_type": "markdown",
   "id": "experimental-understanding",
   "metadata": {},
   "source": [
    "### Selecting Relevant Columns\n",
    "\n",
    "The dataframe we created earlier has a lot of information, but not all columns are relevant for predicting a customer's rating."
   ]
  },
  {
   "cell_type": "code",
   "execution_count": 13,
   "id": "individual-freeware",
   "metadata": {},
   "outputs": [],
   "source": [
    "relevant_cols = [\"customer_id\", \"order_purchase_timestamp\", \"order_delivered_customer_date\", \"order_estimated_delivery_date\",\n",
    "                 \"price\", \"freight_value\", \"customer_zip_code_prefix\", \"customer_state\", \"product_category_name\", \n",
    "                 \"product_photos_qty\", \"product_weight_g\", \"product_length_cm\", \"product_height_cm\", \n",
    "                 \"product_width_cm\", \"seller_zip_code_prefix\", \"seller_state\", \"total_installments\", \"total_value\",\n",
    "                 \"credit_card_installments\", \"boleto_installments\", \"voucher_installments\", \n",
    "                 \"debit_card_installments\", \"not_defined_installments\", \"credit_card_total_value\",\n",
    "                 \"boleto_total_value\", \"voucher_total_value\", \"debit_card_total_value\",\n",
    "                 \"not_defined_total_value\", \"review_score\"]\n",
    "df = df[relevant_cols]"
   ]
  },
  {
   "cell_type": "markdown",
   "id": "agricultural-module",
   "metadata": {},
   "source": [
    "### Missing Data"
   ]
  },
  {
   "cell_type": "code",
   "execution_count": 14,
   "id": "ideal-hanging",
   "metadata": {},
   "outputs": [
    {
     "data": {
      "image/png": "[encoded data removed]",
      "text/plain": [
       "<Figure size 720x576 with 1 Axes>"
      ]
     },
     "metadata": {},
     "output_type": "display_data"
    }
   ],
   "source": [
    "cmap = sns.diverging_palette(260, 14, as_cmap=True)\n",
    "plt.figure(figsize = (10,8))\n",
    "ax = sns.heatmap(df.isna().sum().to_frame(), annot=True, fmt='d', cmap=cmap, vmax=1, cbar=False)\n",
    "plt.title('Missing Values', fontweight='bold')\n",
    "ax.set_xlabel('# missing values')\n",
    "plt.show()"
   ]
  },
  {
   "cell_type": "markdown",
   "id": "designed-score",
   "metadata": {},
   "source": [
    "As we can see in the visualization above, we have 7 columns containing missing data.\n",
    "\n",
    "Most of them have only a few missing values, but `product_category_name` and `product_photos_qty` have a more than 1.5k missing values."
   ]
  },
  {
   "cell_type": "markdown",
   "id": "rocky-summary",
   "metadata": {},
   "source": [
    "**order_delivered_customer_date**"
   ]
  },
  {
   "cell_type": "code",
   "execution_count": 15,
   "id": "blank-fishing",
   "metadata": {},
   "outputs": [
    {
     "name": "stdout",
     "output_type": "stream",
     "text": [
      "> 8 missing values\n"
     ]
    }
   ],
   "source": [
    "print(f\"> {df['order_delivered_customer_date'].isna().sum()} missing values\")"
   ]
  },
  {
   "cell_type": "markdown",
   "id": "embedded-lodge",
   "metadata": {},
   "source": [
    "There are only 8 missing values, so we'll drop these rows."
   ]
  },
  {
   "cell_type": "code",
   "execution_count": 16,
   "id": "phantom-explosion",
   "metadata": {},
   "outputs": [],
   "source": [
    "df.dropna(subset=[\"order_delivered_customer_date\"], inplace=True)"
   ]
  },
  {
   "cell_type": "markdown",
   "id": "developed-tamil",
   "metadata": {},
   "source": [
    "**product_category_name**"
   ]
  },
  {
   "cell_type": "code",
   "execution_count": 17,
   "id": "focused-southeast",
   "metadata": {},
   "outputs": [
    {
     "name": "stdout",
     "output_type": "stream",
     "text": [
      "> 1555 missing values\n"
     ]
    }
   ],
   "source": [
    "print(f\"> {df['product_category_name'].isna().sum()} missing values\")"
   ]
  },
  {
   "cell_type": "markdown",
   "id": "outdoor-jason",
   "metadata": {},
   "source": [
    "We are going to create a new category for products without a category: `unspecified`"
   ]
  },
  {
   "cell_type": "code",
   "execution_count": 18,
   "id": "running-dancing",
   "metadata": {},
   "outputs": [],
   "source": [
    "df['product_category_name'].fillna(\"unspecified\", inplace=True)"
   ]
  },
  {
   "cell_type": "markdown",
   "id": "expired-plastic",
   "metadata": {},
   "source": [
    "**product_photos_qty**"
   ]
  },
  {
   "cell_type": "code",
   "execution_count": 19,
   "id": "thorough-compensation",
   "metadata": {},
   "outputs": [
    {
     "name": "stdout",
     "output_type": "stream",
     "text": [
      "> 1533 missing values\n",
      "> Minimum value: 1.0\n"
     ]
    }
   ],
   "source": [
    "print(f\"> {df['product_photos_qty'].isna().sum()} missing values\")\n",
    "print(f\"> Minimum value: {min(df['product_photos_qty'])}\")"
   ]
  },
  {
   "cell_type": "markdown",
   "id": "weighted-sally",
   "metadata": {},
   "source": [
    "The rows with a valid number of photos have a minimum value of 1. So we're going to consider that missing data in this column represents products without photos."
   ]
  },
  {
   "cell_type": "code",
   "execution_count": 20,
   "id": "surprised-eight",
   "metadata": {},
   "outputs": [],
   "source": [
    "df['product_photos_qty'].fillna(0, inplace=True)"
   ]
  },
  {
   "cell_type": "markdown",
   "id": "collectible-removal",
   "metadata": {},
   "source": [
    "**Product Dimension** (weight, length, height, width)"
   ]
  },
  {
   "cell_type": "code",
   "execution_count": 21,
   "id": "restricted-chinese",
   "metadata": {},
   "outputs": [
    {
     "name": "stdout",
     "output_type": "stream",
     "text": [
      "> 18 missing values\n"
     ]
    }
   ],
   "source": [
    "print(f\"> {df['product_weight_g'].isna().sum()} missing values\")"
   ]
  },
  {
   "cell_type": "markdown",
   "id": "intensive-scottish",
   "metadata": {},
   "source": [
    "There are only 18 missing values, so we'll drop these rows."
   ]
  },
  {
   "cell_type": "code",
   "execution_count": 22,
   "id": "elegant-local",
   "metadata": {},
   "outputs": [],
   "source": [
    "df.dropna(subset=[\"product_weight_g\", \"product_length_cm\", \"product_height_cm\", \"product_width_cm\"], inplace=True)"
   ]
  },
  {
   "cell_type": "markdown",
   "id": "surgical-simple",
   "metadata": {},
   "source": [
    "### Duplicate Data"
   ]
  },
  {
   "cell_type": "code",
   "execution_count": 23,
   "id": "interstate-equation",
   "metadata": {},
   "outputs": [
    {
     "name": "stdout",
     "output_type": "stream",
     "text": [
      "> There are 10482 duplicated rows.\n"
     ]
    }
   ],
   "source": [
    "print(f\"> There are {df.duplicated().sum()} duplicated rows.\")"
   ]
  },
  {
   "cell_type": "markdown",
   "id": "neutral-consultation",
   "metadata": {},
   "source": [
    "Removing the duplicate data:"
   ]
  },
  {
   "cell_type": "code",
   "execution_count": 24,
   "id": "defined-little",
   "metadata": {},
   "outputs": [],
   "source": [
    "df.drop_duplicates(inplace=True)"
   ]
  },
  {
   "cell_type": "markdown",
   "id": "local-paris",
   "metadata": {},
   "source": [
    "## 3. Feature Engineering\n",
    "___\n",
    "\n",
    "In this section, we'll be transforming raw data into features that better represent an order and may be influencing its rating."
   ]
  },
  {
   "cell_type": "markdown",
   "id": "broadband-shopping",
   "metadata": {},
   "source": [
    "### Date/Time Features"
   ]
  },
  {
   "cell_type": "code",
   "execution_count": 25,
   "id": "civic-december",
   "metadata": {},
   "outputs": [],
   "source": [
    "# Defining a function to identify the part of the day\n",
    "def identify_part_of_the_day(hour):\n",
    "    if (hour > 4) and (hour <= 12):\n",
    "        return 'morning'\n",
    "    elif (hour > 12) and (hour <= 17):\n",
    "        return 'afternoon'\n",
    "    elif (hour > 17) and (hour <= 21):\n",
    "        return 'everning'\n",
    "    else:\n",
    "        return 'night'"
   ]
  },
  {
   "cell_type": "code",
   "execution_count": 26,
   "id": "running-relief",
   "metadata": {},
   "outputs": [],
   "source": [
    "# Identify the part of the day (potd) - purchase and delivery\n",
    "df['purchase_potd'] = df['order_purchase_timestamp'].dt.hour.apply(identify_part_of_the_day)\n",
    "df['delivery_potd'] = df['order_delivered_customer_date'].dt.hour.apply(identify_part_of_the_day)\n",
    "\n",
    "# Identify the day of the week (dotw) - purchase and delivery\n",
    "df['purchase_dotw'] = df['order_purchase_timestamp'].dt.day_name()\n",
    "df['delivery_dotw'] = df['order_delivered_customer_date'].dt.day_name()\n",
    "\n",
    "# Calculate how long it took to deliver the order (in days)\n",
    "df['delivery_time_days'] = (df['order_delivered_customer_date'] - df['order_purchase_timestamp']).dt.days\n",
    "\n",
    "# Calculate delays (in days)\n",
    "df['delivery_delay_days'] = (df['order_estimated_delivery_date'] - df['order_delivered_customer_date']).dt.days\n",
    "\n",
    "# Identify if the order was delivered later than estimated\n",
    "df['delivered_late'] = df['delivery_delay_days'].apply(lambda x: 1 if x > 0 else 0)"
   ]
  },
  {
   "cell_type": "markdown",
   "id": "experimental-austin",
   "metadata": {},
   "source": [
    "### Price Features"
   ]
  },
  {
   "cell_type": "code",
   "execution_count": 27,
   "id": "different-france",
   "metadata": {},
   "outputs": [],
   "source": [
    "# Calculate the percentage of the product price that corresponds to the freight\n",
    "df['freight_percentage'] = df['freight_value'] / df['price']\n",
    "\n",
    "# Calculate the customer's average order price\n",
    "average_order_price_customer = df.groupby(\"customer_id\")[\"price\"].mean().rename(\"customer_avg_order\")\n",
    "df = pd.merge(left=df, right=average_order_price_customer, how='inner',\n",
    "              left_on='customer_id', right_on='customer_id')\n",
    "\n",
    "# Calculate the difference: order price - customer's average order price\n",
    "df['customer_price_diff'] = df['price'] - df['customer_avg_order']\n",
    "\n",
    "# Installment value\n",
    "df['installment_value'] = df['total_value'] / df['total_installments']"
   ]
  },
  {
   "cell_type": "markdown",
   "id": "adjusted-honduras",
   "metadata": {},
   "source": [
    "### Product Features"
   ]
  },
  {
   "cell_type": "code",
   "execution_count": 28,
   "id": "durable-challenge",
   "metadata": {},
   "outputs": [],
   "source": [
    "# Calculate product volume\n",
    "df['product_volume_cm3'] = df['product_length_cm'] * df['product_height_cm'] * df['product_width_cm']\n",
    "\n",
    "# Create categories for number of product photos\n",
    "upper_limit = 7\n",
    "df['product_photos_qty'] = (df['product_photos_qty']\n",
    "                            .apply(lambda x: str(int(x))+\"_photos\" if x < upper_limit\n",
    "                                   else str(upper_limit)+\"+_photos\"))"
   ]
  },
  {
   "cell_type": "markdown",
   "id": "conscious-detector",
   "metadata": {},
   "source": [
    "### Customer Satisfaction (Target Variable)\n",
    "\n",
    "In this dataframe there is a numeric review score ranging from 1 to 5. We are going to consider that **ratings lower or equal to 2 represent an unsatisfied customer** and create a feature called `unsatisfied_customer` (our target variable)."
   ]
  },
  {
   "cell_type": "code",
   "execution_count": 29,
   "id": "mobile-coral",
   "metadata": {},
   "outputs": [],
   "source": [
    "df['unsatisfied_customer'] = df['review_score'].apply(lambda x: 1 if x <= 2 else 0)"
   ]
  },
  {
   "cell_type": "markdown",
   "id": "arranged-burden",
   "metadata": {},
   "source": [
    "### One-Hot Encoding"
   ]
  },
  {
   "cell_type": "code",
   "execution_count": 30,
   "id": "bacterial-medication",
   "metadata": {},
   "outputs": [],
   "source": [
    "# Creating Features from Categorical Data\n",
    "categorical_cols = ['customer_state', 'product_category_name', 'product_photos_qty', 'seller_state',\n",
    "                    'purchase_potd', 'delivery_potd', 'purchase_dotw', 'delivery_dotw']\n",
    "df = pd.get_dummies(df, columns=categorical_cols)"
   ]
  },
  {
   "cell_type": "code",
   "execution_count": 31,
   "id": "finnish-terminology",
   "metadata": {},
   "outputs": [],
   "source": [
    "# Removing features that will not be used for modeling\n",
    "remove_cols = [\"order_purchase_timestamp\", \"order_delivered_customer_date\", \"order_estimated_delivery_date\",\n",
    "               \"customer_id\", \"customer_zip_code_prefix\", \"seller_zip_code_prefix\", \"total_value\", \n",
    "               'product_length_cm', 'product_height_cm', 'product_width_cm', \"review_score\"]\n",
    "df.drop(columns=remove_cols, inplace=True)"
   ]
  },
  {
   "cell_type": "markdown",
   "id": "southern-finding",
   "metadata": {},
   "source": [
    "## 4. Pre Processing\n",
    "___\n",
    "\n",
    "### Correlation\n",
    "\n",
    "We're going to use correlation to select the features that could help to predict customer satisfaction (filter non-predictive features)"
   ]
  },
  {
   "cell_type": "code",
   "execution_count": 32,
   "id": "endangered-apartment",
   "metadata": {},
   "outputs": [
    {
     "data": {
      "text/plain": [
       "delivered_late                           -0.316034\n",
       "delivery_time_days                        0.293012\n",
       "delivery_delay_days                      -0.234502\n",
       "customer_state_RJ                         0.062164\n",
       "customer_state_SP                        -0.053998\n",
       "credit_card_total_value                   0.049766\n",
       "total_installments                        0.047645\n",
       "credit_card_installments                  0.044949\n",
       "product_category_name_bed_bath_table      0.039037\n",
       "product_category_name_office_furniture    0.030515\n",
       "freight_value                             0.030263\n",
       "seller_state_SP                           0.026554\n",
       "product_photos_qty_1_photos               0.025476\n",
       "boleto_total_value                        0.024873\n",
       "product_weight_g                          0.023556\n",
       "customer_state_BA                         0.022192\n",
       "product_volume_cm3                        0.021661\n",
       "delivery_dotw_Saturday                    0.021592\n",
       "product_category_name_furniture_decor     0.020618\n",
       "dtype: float64"
      ]
     },
     "execution_count": 32,
     "metadata": {},
     "output_type": "execute_result"
    }
   ],
   "source": [
    "# Calculating correlation with target value (bad_rating)\n",
    "target_correlation = df.corrwith(df['unsatisfied_customer']).sort_values(ascending=False, key=abs)\n",
    "\n",
    "# Filtering variables with a significant correlation\n",
    "corr_threshold = 0.02\n",
    "target_correlation = target_correlation[(target_correlation >= corr_threshold)\n",
    "                                        | (target_correlation <= -corr_threshold)]\n",
    "target_correlation.drop(\"unsatisfied_customer\", inplace=True)\n",
    "target_correlation"
   ]
  },
  {
   "cell_type": "markdown",
   "id": "reduced-calcium",
   "metadata": {},
   "source": [
    "As expected, some features like `delivery_time_days` and `delivery_delay_days` have a significant correlation with customer satisfaction."
   ]
  },
  {
   "cell_type": "markdown",
   "id": "adolescent-newton",
   "metadata": {},
   "source": [
    "Now, let's check for collinearity between the selected features:"
   ]
  },
  {
   "cell_type": "code",
   "execution_count": 33,
   "id": "opening-generic",
   "metadata": {},
   "outputs": [
    {
     "data": {
      "text/html": [
       "<div>\n",
       "<style scoped>\n",
       "    .dataframe tbody tr th:only-of-type {\n",
       "        vertical-align: middle;\n",
       "    }\n",
       "\n",
       "    .dataframe tbody tr th {\n",
       "        vertical-align: top;\n",
       "    }\n",
       "\n",
       "    .dataframe thead th {\n",
       "        text-align: right;\n",
       "    }\n",
       "</style>\n",
       "<table border=\"1\" class=\"dataframe\">\n",
       "  <thead>\n",
       "    <tr style=\"text-align: right;\">\n",
       "      <th></th>\n",
       "      <th>pair_of_features</th>\n",
       "      <th>correlation</th>\n",
       "    </tr>\n",
       "  </thead>\n",
       "  <tbody>\n",
       "    <tr>\n",
       "      <th>0</th>\n",
       "      <td>(delivered_late, delivery_time_days)</td>\n",
       "      <td>-0.565261</td>\n",
       "    </tr>\n",
       "    <tr>\n",
       "      <th>1</th>\n",
       "      <td>(delivered_late, delivery_delay_days)</td>\n",
       "      <td>0.609293</td>\n",
       "    </tr>\n",
       "    <tr>\n",
       "      <th>18</th>\n",
       "      <td>(delivery_time_days, delivery_delay_days)</td>\n",
       "      <td>-0.600843</td>\n",
       "    </tr>\n",
       "    <tr>\n",
       "      <th>93</th>\n",
       "      <td>(total_installments, credit_card_installments)</td>\n",
       "      <td>0.982708</td>\n",
       "    </tr>\n",
       "    <tr>\n",
       "      <th>138</th>\n",
       "      <td>(freight_value, product_weight_g)</td>\n",
       "      <td>0.610884</td>\n",
       "    </tr>\n",
       "    <tr>\n",
       "      <th>140</th>\n",
       "      <td>(freight_value, product_volume_cm3)</td>\n",
       "      <td>0.585310</td>\n",
       "    </tr>\n",
       "    <tr>\n",
       "      <th>162</th>\n",
       "      <td>(product_weight_g, product_volume_cm3)</td>\n",
       "      <td>0.802550</td>\n",
       "    </tr>\n",
       "  </tbody>\n",
       "</table>\n",
       "</div>"
      ],
      "text/plain": [
       "                                   pair_of_features  correlation\n",
       "0              (delivered_late, delivery_time_days)    -0.565261\n",
       "1             (delivered_late, delivery_delay_days)     0.609293\n",
       "18        (delivery_time_days, delivery_delay_days)    -0.600843\n",
       "93   (total_installments, credit_card_installments)     0.982708\n",
       "138               (freight_value, product_weight_g)     0.610884\n",
       "140             (freight_value, product_volume_cm3)     0.585310\n",
       "162          (product_weight_g, product_volume_cm3)     0.802550"
      ]
     },
     "execution_count": 33,
     "metadata": {},
     "output_type": "execute_result"
    }
   ],
   "source": [
    "# Calculating the correlation between features\n",
    "pair_correlation = [((feat1, feat2), df[feat1].corr(df[feat2])) for feat1, feat2 in itertools.combinations(target_correlation.index, 2)]\n",
    "pair_correlation = pd.DataFrame(pair_correlation, columns=['pair_of_features', 'correlation'])\n",
    "\n",
    "# Filtering highly correlated features\n",
    "pair_correlation[abs(pair_correlation['correlation']) > 0.5]"
   ]
  },
  {
   "cell_type": "markdown",
   "id": "anticipated-table",
   "metadata": {},
   "source": [
    "Some of the features are highly correlated. We'll keep only one feature of each highly correlated pair of features:"
   ]
  },
  {
   "cell_type": "code",
   "execution_count": 34,
   "id": "casual-saver",
   "metadata": {},
   "outputs": [],
   "source": [
    "selected_features = target_correlation.drop(index=[\"delivery_delay_days\",\n",
    "                                                   \"credit_card_installments\",\n",
    "                                                   \"product_volume_cm3\"]).index.to_list()"
   ]
  },
  {
   "cell_type": "markdown",
   "id": "intelligent-destiny",
   "metadata": {},
   "source": [
    "### Train Test Split"
   ]
  },
  {
   "cell_type": "code",
   "execution_count": 35,
   "id": "colored-failure",
   "metadata": {},
   "outputs": [],
   "source": [
    "# Separating features (X) and target (y)\n",
    "X = df[selected_features].copy()\n",
    "y = df['unsatisfied_customer'].copy()\n",
    "\n",
    "# Splitting into Training and Testing\n",
    "X_train, X_test, y_train, y_test = train_test_split(X, y, test_size=0.2, stratify=y, random_state=42)"
   ]
  },
  {
   "cell_type": "markdown",
   "id": "extended-location",
   "metadata": {},
   "source": [
    "### Feature Scaling"
   ]
  },
  {
   "cell_type": "code",
   "execution_count": 36,
   "id": "relative-australian",
   "metadata": {},
   "outputs": [],
   "source": [
    "# Selecting features\n",
    "features_to_scale = ['delivery_time_days', 'credit_card_total_value', 'total_installments',\n",
    "                     'freight_value', 'boleto_total_value', 'product_weight_g']\n",
    "\n",
    "# Fitting scaler on train data\n",
    "scaler = StandardScaler()\n",
    "scaler = scaler.fit(X_train[features_to_scale])\n",
    "\n",
    "# Feature scaling on train data\n",
    "X_train_scaled = pd.DataFrame(scaler.transform(X_train[features_to_scale]),\n",
    "                              columns=features_to_scale, index=X_train.index)\n",
    "X_train_scaled = pd.concat([X_train_scaled, X_train.drop(columns=features_to_scale)], axis=1)\n",
    "\n",
    "# Feature Scaling on test data\n",
    "X_test_scaled = pd.DataFrame(scaler.transform(X_test[features_to_scale]),\n",
    "                              columns=features_to_scale, index=X_test.index)\n",
    "X_test_scaled = pd.concat([X_test_scaled, X_test.drop(columns=features_to_scale)], axis=1)"
   ]
  },
  {
   "cell_type": "markdown",
   "id": "healthy-impossible",
   "metadata": {},
   "source": [
    "## 5. Model Testing\n",
    "___"
   ]
  },
  {
   "cell_type": "markdown",
   "id": "younger-joyce",
   "metadata": {},
   "source": [
    "### Baseline (Dummy Classifier)"
   ]
  },
  {
   "cell_type": "code",
   "execution_count": 37,
   "id": "killing-quick",
   "metadata": {},
   "outputs": [
    {
     "data": {
      "image/png": "[encoded data removed]",
      "text/plain": [
       "<Figure size 432x288 with 1 Axes>"
      ]
     },
     "metadata": {},
     "output_type": "display_data"
    }
   ],
   "source": [
    "dummy_clf = DummyClassifier(strategy='stratified', random_state=42)\n",
    "dummy_clf.fit(X_train_scaled, y_train)\n",
    "y_pred = dummy_clf.predict(X_test_scaled)\n",
    "\n",
    "cm = confusion_matrix(y_test, y_pred)\n",
    "make_confusion_matrix(cm, figsize=(6, 4), categories=[\"Satisfied\", \"Unsatisfied\"])"
   ]
  },
  {
   "cell_type": "markdown",
   "id": "durable-primary",
   "metadata": {},
   "source": [
    "### Testing Classification Models\n",
    "\n",
    "First, let's define some functions to help testing different classification models:"
   ]
  },
  {
   "cell_type": "code",
   "execution_count": 38,
   "id": "stock-guess",
   "metadata": {},
   "outputs": [],
   "source": [
    "# Defining a function to train and evaluate models\n",
    "def evaluate_models(models):\n",
    "    models_metrics = {}\n",
    "    \n",
    "    # Train and evaluate models\n",
    "    for model_name, model in models.items():\n",
    "        clf = model\n",
    "        clf.fit(X_train_scaled, y_train)\n",
    "        y_pred = clf.predict(X_test_scaled)\n",
    "        cm = confusion_matrix(y_test, y_pred)\n",
    "\n",
    "        # Calculating Metrics\n",
    "        accuracy = np.trace(cm) / np.sum(cm)\n",
    "        precision = cm[1, 1] / sum(cm[:, 1])\n",
    "        recall = cm[1, 1] / sum(cm[1, :])\n",
    "        f1_score = 2*precision*recall / (precision + recall)\n",
    "        auc_score = roc_auc_score(y_test, clf.predict(X_test_scaled))\n",
    "\n",
    "        # Saving Metrics\n",
    "        models_metrics[model_name] = (\n",
    "            {\n",
    "            'Accuracy': accuracy,\n",
    "            'Precision': precision,\n",
    "            'Recall': recall,\n",
    "            'F1_score': f1_score,\n",
    "            'AUC_score': auc_score,\n",
    "            'CM': cm,\n",
    "            'Predictions': clf.predict(X_test_scaled)\n",
    "            }\n",
    "        ) \n",
    "    return models_metrics"
   ]
  },
  {
   "cell_type": "code",
   "execution_count": 39,
   "id": "outside-brief",
   "metadata": {},
   "outputs": [],
   "source": [
    "# Defining a function to print the model's metrics\n",
    "def print_models_metrics(models_metrics, title=\"RESULTS:\"):\n",
    "    print(title)\n",
    "    print(\"_____________________________________\")\n",
    "    for model_name, model in models_metrics.items():\n",
    "        print(f\"\\n> Model: {model_name}\\n\")\n",
    "        for metric in ['Accuracy', 'Precision', 'Recall', 'F1_score', 'AUC_score']:\n",
    "            print(f\"{metric}: {model[metric]:.3f}\")\n",
    "        print(\"_____________________________________\")"
   ]
  },
  {
   "cell_type": "markdown",
   "id": "included-bailey",
   "metadata": {},
   "source": [
    "Selecting some ML classification algorithms:"
   ]
  },
  {
   "cell_type": "code",
   "execution_count": 40,
   "id": "rental-disclaimer",
   "metadata": {},
   "outputs": [],
   "source": [
    "models = {\n",
    "        \"LogisticRegression\": LogisticRegression(max_iter=1000),\n",
    "        \"RandomForest\": RandomForestClassifier(),\n",
    "        \"XGBoost\": XGBClassifier(),\n",
    "        \"SVC\": SVC()\n",
    "}"
   ]
  },
  {
   "cell_type": "code",
   "execution_count": 41,
   "id": "nasty-berkeley",
   "metadata": {},
   "outputs": [
    {
     "name": "stdout",
     "output_type": "stream",
     "text": [
      "RESULT METRICS:\n",
      "_____________________________________\n",
      "\n",
      "> Model: LogisticRegression\n",
      "\n",
      "Accuracy: 0.877\n",
      "Precision: 0.699\n",
      "Recall: 0.175\n",
      "F1_score: 0.279\n",
      "AUC_score: 0.581\n",
      "_____________________________________\n",
      "\n",
      "> Model: RandomForest\n",
      "\n",
      "Accuracy: 0.882\n",
      "Precision: 0.675\n",
      "Recall: 0.253\n",
      "F1_score: 0.368\n",
      "AUC_score: 0.617\n",
      "_____________________________________\n",
      "\n",
      "> Model: XGBoost\n",
      "\n",
      "Accuracy: 0.880\n",
      "Precision: 0.673\n",
      "Recall: 0.232\n",
      "F1_score: 0.345\n",
      "AUC_score: 0.607\n",
      "_____________________________________\n",
      "\n",
      "> Model: SVC\n",
      "\n",
      "Accuracy: 0.880\n",
      "Precision: 0.710\n",
      "Recall: 0.199\n",
      "F1_score: 0.311\n",
      "AUC_score: 0.593\n",
      "_____________________________________\n"
     ]
    }
   ],
   "source": [
    "result_metrics = evaluate_models(models)\n",
    "print_models_metrics(result_metrics, \"RESULT METRICS:\")"
   ]
  },
  {
   "cell_type": "code",
   "execution_count": null,
   "id": "aboriginal-learning",
   "metadata": {},
   "outputs": [],
   "source": []
  }
 ],
 "metadata": {
  "kernelspec": {
   "display_name": "Python 3",
   "language": "python",
   "name": "python3"
  },
  "language_info": {
   "codemirror_mode": {
    "name": "ipython",
    "version": 3
   },
   "file_extension": ".py",
   "mimetype": "text/x-python",
   "name": "python",
   "nbconvert_exporter": "python",
   "pygments_lexer": "ipython3",
   "version": "3.8.8"
  }
 },
 "nbformat": 4,
 "nbformat_minor": 5
}
